{
 "cells": [
  {
   "cell_type": "markdown",
   "metadata": {},
   "source": [
    "# EDA"
   ]
  },
  {
   "cell_type": "markdown",
   "metadata": {},
   "source": [
    "### Setup"
   ]
  },
  {
   "cell_type": "code",
   "execution_count": 7,
   "metadata": {},
   "outputs": [],
   "source": [
    "from urllib.parse import urlencode, quote_plus, unquote, parse_qs, parse_qsl, unquote_plus\n",
    "import pandas as pd\n",
    "import re\n",
    "import requests\n",
    "import time\n",
    "import json\n",
    "from tqdm import tqdm"
   ]
  },
  {
   "cell_type": "code",
   "execution_count": 8,
   "metadata": {},
   "outputs": [],
   "source": [
    "token=\"mgczpeQ1Yprfi6uPrYBnmlC3g41nCTNEcGsYQbGm\""
   ]
  },
  {
   "cell_type": "markdown",
   "metadata": {},
   "source": [
    "# 1️⃣ Examples"
   ]
  },
  {
   "cell_type": "markdown",
   "metadata": {},
   "source": [
    "### Example strings"
   ]
  },
  {
   "cell_type": "code",
   "execution_count": 9,
   "metadata": {},
   "outputs": [
    {
     "name": "stdout",
     "output_type": "stream",
     "text": [
      "filter_database_fq_database=AND&filter_database_fq_database=database:\"physics\"&fq={!type=aqp v=$fq_database}&fq_database=(database:\"physics\")&q=+author:\"^Roman\" +year:2021&sort=date desc, bibcode desc&p_=0\n",
      "q= author:\"Roman\" year:2011&sort=date desc, bibcode desc&p_=0\n",
      "q=+author:\"^Roman\" +year:2021&sort=date desc, bibcode desc&p_=0\n",
      "q=author:\"Gardiner,+Emiko+C.\"&fl=id&start=0&sort=date+desc,bibcode+desc&rows=10&wt=json&p_=0\n",
      "q=full:\"substructures\"++full:\"protoplanetary+disk\"+abs:\"accretion+rate\"\n"
     ]
    }
   ],
   "source": [
    "encoded_examples = [\n",
    "    \"filter_database_fq_database=AND&filter_database_fq_database=database%3A%22physics%22&fq=%7B!type%3Daqp%20v%3D%24fq_database%7D&fq_database=(database%3A%22physics%22)&q=%2Bauthor%3A%22%5ERoman%22%20%2Byear%3A2021&sort=date%20desc%2C%20bibcode%20desc&p_=0\",\n",
    "    \"q=%20author%3A%22Roman%22%20year%3A2011&sort=date%20desc%2C%20bibcode%20desc&p_=0\",\n",
    "    \"q=%2Bauthor%3A%22%5ERoman%22%20%2Byear%3A2021&sort=date%20desc%2C%20bibcode%20desc&p_=0\",\n",
    "    \"q=author:\\\"Gardiner,+Emiko+C.\\\"&fl=id&start=0&sort=date+desc,bibcode+desc&rows=10&wt=json&p_=0\",\n",
    "    \"q=full:\\\"substructures\\\"++full:\\\"protoplanetary+disk\\\"+abs:\\\"accretion+rate\\\"\"\n",
    "]\n",
    "\n",
    "# unquote example\n",
    "for ex in encoded_examples:\n",
    "    print(unquote(ex))"
   ]
  },
  {
   "cell_type": "markdown",
   "metadata": {},
   "source": [
    "#### Make API call using example"
   ]
  },
  {
   "cell_type": "markdown",
   "metadata": {},
   "source": [
    "### 3 Examples"
   ]
  },
  {
   "cell_type": "markdown",
   "metadata": {},
   "source": [
    "|   SOURCE          |  QUERY                                                                                |\n",
    "|-------------------|---------------------------------------------------------------------------------------|\n",
    "| website url       | q=%20author%3A%22Starck%2C%20Jean-Luc%22&sort=date%20desc%2C%20bibcode%20desc&p_=0    |\n",
    "| colab notebook    | q=author%3AStarck%2C+Jean-Luc                                                         |\n"
   ]
  },
  {
   "cell_type": "markdown",
   "metadata": {},
   "source": [
    "# 2️⃣ Parse"
   ]
  },
  {
   "cell_type": "markdown",
   "metadata": {},
   "source": [
    "### Get queries"
   ]
  },
  {
   "cell_type": "markdown",
   "metadata": {},
   "source": [
    "#### Approach 1: Naive Query Extraction"
   ]
  },
  {
   "cell_type": "markdown",
   "metadata": {},
   "source": [
    "**Note**: This code does not handle bigqueries correctly currently, or other complicated queries. I need to get some help.\n",
    "\n",
    "It also ignores non-escaped '+' and '-' characters. So `+author:x` is treated as `author:x`"
   ]
  },
  {
   "cell_type": "code",
   "execution_count": 10,
   "metadata": {},
   "outputs": [],
   "source": [
    "def extract_queries_basic(path):\n",
    "    # Read the entire file\n",
    "    with open(path, 'r') as f:\n",
    "        content = f.read()\n",
    "\n",
    "    # Use regex to find all the api requests that start with 'q='\n",
    "    matches = re.findall(r'q=.*?&', content)\n",
    "    queries = [match[2:-1] for match in matches]\n",
    "\n",
    "    # Convert to dataframe\n",
    "    df = pd.DataFrame(queries, columns=['query'])\n",
    "\n",
    "    return df"
   ]
  },
  {
   "cell_type": "markdown",
   "metadata": {},
   "source": [
    "#### Approach 2: More Complex Query Extraction"
   ]
  },
  {
   "cell_type": "markdown",
   "metadata": {},
   "source": [
    "##### Constrains on what gets extracted"
   ]
  },
  {
   "cell_type": "code",
   "execution_count": 11,
   "metadata": {},
   "outputs": [],
   "source": [
    "def clear_big_query(q):\n",
    "    if '__clearBigQuery' in q:\n",
    "        return bool(q['__clearBigQuery'][0])\n",
    "    return True\n",
    "\n",
    "def gt_1_row(q):\n",
    "    if 'rows' in q:\n",
    "        return int(q['rows'][0]) > 1\n",
    "    return True\n",
    "\n",
    "def not_big_query(q):\n",
    "    return q['q'][0] != '*:*'\n",
    "\n",
    "def not_identifier(q):\n",
    "    return 'identifier' not in q['q'][0]\n",
    "\n",
    "def not_bibcode(q):\n",
    "    return 'bibcode' not in q['q'][0]\n",
    "\n",
    "def not_doi(q):\n",
    "    return 'doi' not in q['q'][0]\n",
    "\n",
    "def long_fl(q):\n",
    "    \"\"\"Long fl parameter can be used to identify machine-generated queries\"\"\"\n",
    "    return NotImplementedError\n",
    "\n",
    "def not_all(q):\n",
    "    return q['q'][0] != '*'"
   ]
  },
  {
   "cell_type": "markdown",
   "metadata": {},
   "source": [
    "##### Extract queries using constraints"
   ]
  },
  {
   "cell_type": "code",
   "execution_count": 14,
   "metadata": {},
   "outputs": [],
   "source": [
    "def extract_queries(path: str, constraints: list[callable]) -> list[dict]:\n",
    "    queries = []\n",
    "\n",
    "    with open(path, 'r') as f:\n",
    "        for line in f.readlines():\n",
    "            if line[:2] != 'q=':\n",
    "                continue\n",
    "\n",
    "            parsed = parse_qs(line.strip())\n",
    "\n",
    "            skip = False\n",
    "            for constraint in constraints:\n",
    "                if not constraint(parsed):\n",
    "                    skip=True\n",
    "                    break\n",
    "            if skip:\n",
    "                continue\n",
    "            \n",
    "            # print(parsed)\n",
    "            queries.append(parsed)\n",
    "\n",
    "    q_params = [query['q'][0] for query in queries]\n",
    "    df = pd.DataFrame(q_params, columns=['query']).drop_duplicates()\n",
    "    return df\n",
    " "
   ]
  },
  {
   "cell_type": "code",
   "execution_count": 15,
   "metadata": {},
   "outputs": [
    {
     "name": "stdout",
     "output_type": "stream",
     "text": [
      "402\n"
     ]
    },
    {
     "data": {
      "text/html": [
       "<div>\n",
       "<style scoped>\n",
       "    .dataframe tbody tr th:only-of-type {\n",
       "        vertical-align: middle;\n",
       "    }\n",
       "\n",
       "    .dataframe tbody tr th {\n",
       "        vertical-align: top;\n",
       "    }\n",
       "\n",
       "    .dataframe thead th {\n",
       "        text-align: right;\n",
       "    }\n",
       "</style>\n",
       "<table border=\"1\" class=\"dataframe\">\n",
       "  <thead>\n",
       "    <tr style=\"text-align: right;\">\n",
       "      <th></th>\n",
       "      <th>query</th>\n",
       "    </tr>\n",
       "  </thead>\n",
       "  <tbody>\n",
       "    <tr>\n",
       "      <th>0</th>\n",
       "      <td>ngc 1502</td>\n",
       "    </tr>\n",
       "    <tr>\n",
       "      <th>1</th>\n",
       "      <td>abs:\"Hercules\"</td>\n",
       "    </tr>\n",
       "    <tr>\n",
       "      <th>4</th>\n",
       "      <td>title:\"Hercules\"</td>\n",
       "    </tr>\n",
       "    <tr>\n",
       "      <th>7</th>\n",
       "      <td>author:\"^Ogilvie\" year:2004 property:refereed</td>\n",
       "    </tr>\n",
       "    <tr>\n",
       "      <th>9</th>\n",
       "      <td>author:\"Gardiner, Emiko C.\"</td>\n",
       "    </tr>\n",
       "    <tr>\n",
       "      <th>11</th>\n",
       "      <td>abs:(HD 183143 catalogue dibs)</td>\n",
       "    </tr>\n",
       "    <tr>\n",
       "      <th>12</th>\n",
       "      <td>author:\"^Roman\"  year:2021</td>\n",
       "    </tr>\n",
       "    <tr>\n",
       "      <th>16</th>\n",
       "      <td>author:(\"tsujimoto,t.\")</td>\n",
       "    </tr>\n",
       "    <tr>\n",
       "      <th>22</th>\n",
       "      <td>R.V. Wagoner et al., Astrophys. J. 148, 3 (1967)</td>\n",
       "    </tr>\n",
       "    <tr>\n",
       "      <th>24</th>\n",
       "      <td>title:\"Hercules\" abs:\"dwarf\"</td>\n",
       "    </tr>\n",
       "    <tr>\n",
       "      <th>28</th>\n",
       "      <td>author:\"^parmentier, v\"  year:2021</td>\n",
       "    </tr>\n",
       "    <tr>\n",
       "      <th>30</th>\n",
       "      <td>author:\"^parmentier\"  year:2021</td>\n",
       "    </tr>\n",
       "    <tr>\n",
       "      <th>34</th>\n",
       "      <td>author:\"^galishnikova\"</td>\n",
       "    </tr>\n",
       "    <tr>\n",
       "      <th>35</th>\n",
       "      <td>author:\"^ivezic\" year:2002</td>\n",
       "    </tr>\n",
       "    <tr>\n",
       "      <th>38</th>\n",
       "      <td>pubdate:[2010-01 TO 2011-12] author:(\"^HOwen, ...</td>\n",
       "    </tr>\n",
       "    <tr>\n",
       "      <th>40</th>\n",
       "      <td>title:\"Giant Radio quasars: Sample and Basic P...</td>\n",
       "    </tr>\n",
       "    <tr>\n",
       "      <th>43</th>\n",
       "      <td>author:\"Klein, Beth L.\"</td>\n",
       "    </tr>\n",
       "    <tr>\n",
       "      <th>45</th>\n",
       "      <td>Machine to Machine Communications</td>\n",
       "    </tr>\n",
       "    <tr>\n",
       "      <th>46</th>\n",
       "      <td>arxiv:2105.08895</td>\n",
       "    </tr>\n",
       "    <tr>\n",
       "      <th>47</th>\n",
       "      <td>pubdate:[2010-01 TO 2011-12] author:(\"^Owen, J...</td>\n",
       "    </tr>\n",
       "  </tbody>\n",
       "</table>\n",
       "</div>"
      ],
      "text/plain": [
       "                                                query\n",
       "0                                            ngc 1502\n",
       "1                                      abs:\"Hercules\"\n",
       "4                                    title:\"Hercules\"\n",
       "7       author:\"^Ogilvie\" year:2004 property:refereed\n",
       "9                         author:\"Gardiner, Emiko C.\"\n",
       "11                     abs:(HD 183143 catalogue dibs)\n",
       "12                         author:\"^Roman\"  year:2021\n",
       "16                            author:(\"tsujimoto,t.\")\n",
       "22   R.V. Wagoner et al., Astrophys. J. 148, 3 (1967)\n",
       "24                       title:\"Hercules\" abs:\"dwarf\"\n",
       "28                 author:\"^parmentier, v\"  year:2021\n",
       "30                    author:\"^parmentier\"  year:2021\n",
       "34                             author:\"^galishnikova\"\n",
       "35                         author:\"^ivezic\" year:2002\n",
       "38  pubdate:[2010-01 TO 2011-12] author:(\"^HOwen, ...\n",
       "40  title:\"Giant Radio quasars: Sample and Basic P...\n",
       "43                            author:\"Klein, Beth L.\"\n",
       "45                  Machine to Machine Communications\n",
       "46                                   arxiv:2105.08895\n",
       "47  pubdate:[2010-01 TO 2011-12] author:(\"^Owen, J..."
      ]
     },
     "execution_count": 15,
     "metadata": {},
     "output_type": "execute_result"
    }
   ],
   "source": [
    "base_path = \"../../data/queries/\"\n",
    "constraints = [clear_big_query, gt_1_row, not_big_query, not_identifier, not_bibcode, not_doi, not_all]\n",
    "\n",
    "df = extract_queries(base_path + \"searches.txt\", constraints=constraints)\n",
    "df['query'].to_csv(base_path + \"queries.csv\")\n",
    "print(len(df))\n",
    "df.head(20)"
   ]
  },
  {
   "cell_type": "markdown",
   "metadata": {},
   "source": [
    "#### Validate Query Strings\n",
    "\n",
    "Try to make requests to the API using a random sample of these query strings. The status is stored in the response"
   ]
  },
  {
   "cell_type": "code",
   "execution_count": 16,
   "metadata": {},
   "outputs": [],
   "source": [
    "def validate_queries(df: pd.DataFrame):\n",
    "    df = df.copy()\n",
    "    results = []\n",
    "    for _, q in tqdm(df['query'].items()):\n",
    "        query = {\"q\": f\"{q}\"}\n",
    "        encoded_query = urlencode(query)\n",
    "        result = requests.get(\"https://api.adsabs.harvard.edu/v1/search/query?{}\".format(encoded_query), \\\n",
    "                        headers={'Authorization': 'Bearer ' + token})\n",
    "        results.append(result)\n",
    "        time.sleep(0.1)\n",
    "    \n",
    "    df['results_json'] = [r.json() for r in results]\n",
    "    return df"
   ]
  },
  {
   "cell_type": "code",
   "execution_count": 17,
   "metadata": {},
   "outputs": [
    {
     "data": {
      "text/html": [
       "<div>\n",
       "<style scoped>\n",
       "    .dataframe tbody tr th:only-of-type {\n",
       "        vertical-align: middle;\n",
       "    }\n",
       "\n",
       "    .dataframe tbody tr th {\n",
       "        vertical-align: top;\n",
       "    }\n",
       "\n",
       "    .dataframe thead th {\n",
       "        text-align: right;\n",
       "    }\n",
       "</style>\n",
       "<table border=\"1\" class=\"dataframe\">\n",
       "  <thead>\n",
       "    <tr style=\"text-align: right;\">\n",
       "      <th></th>\n",
       "      <th>query</th>\n",
       "      <th>results_json</th>\n",
       "    </tr>\n",
       "  </thead>\n",
       "  <tbody>\n",
       "    <tr>\n",
       "      <th>0</th>\n",
       "      <td>ngc 1502</td>\n",
       "      <td>{'responseHeader': {'status': 0, 'QTime': 304,...</td>\n",
       "    </tr>\n",
       "    <tr>\n",
       "      <th>1</th>\n",
       "      <td>abs:\"Hercules\"</td>\n",
       "      <td>{'responseHeader': {'status': 0, 'QTime': 173,...</td>\n",
       "    </tr>\n",
       "    <tr>\n",
       "      <th>4</th>\n",
       "      <td>title:\"Hercules\"</td>\n",
       "      <td>{'responseHeader': {'status': 0, 'QTime': 17, ...</td>\n",
       "    </tr>\n",
       "    <tr>\n",
       "      <th>7</th>\n",
       "      <td>author:\"^Ogilvie\" year:2004 property:refereed</td>\n",
       "      <td>{'responseHeader': {'status': 0, 'QTime': 52, ...</td>\n",
       "    </tr>\n",
       "    <tr>\n",
       "      <th>9</th>\n",
       "      <td>author:\"Gardiner, Emiko C.\"</td>\n",
       "      <td>{'responseHeader': {'status': 0, 'QTime': 64, ...</td>\n",
       "    </tr>\n",
       "  </tbody>\n",
       "</table>\n",
       "</div>"
      ],
      "text/plain": [
       "                                           query  \\\n",
       "0                                       ngc 1502   \n",
       "1                                 abs:\"Hercules\"   \n",
       "4                               title:\"Hercules\"   \n",
       "7  author:\"^Ogilvie\" year:2004 property:refereed   \n",
       "9                    author:\"Gardiner, Emiko C.\"   \n",
       "\n",
       "                                        results_json  \n",
       "0  {'responseHeader': {'status': 0, 'QTime': 304,...  \n",
       "1  {'responseHeader': {'status': 0, 'QTime': 173,...  \n",
       "4  {'responseHeader': {'status': 0, 'QTime': 17, ...  \n",
       "7  {'responseHeader': {'status': 0, 'QTime': 52, ...  \n",
       "9  {'responseHeader': {'status': 0, 'QTime': 64, ...  "
      ]
     },
     "execution_count": 17,
     "metadata": {},
     "output_type": "execute_result"
    }
   ],
   "source": [
    "df_validated = validate_queries(df)\n",
    "df_validated.head(5)"
   ]
  },
  {
   "cell_type": "markdown",
   "metadata": {},
   "source": [
    "Extract information from the responses and add these to the dataframe"
   ]
  },
  {
   "cell_type": "code",
   "execution_count": 19,
   "metadata": {},
   "outputs": [
    {
     "data": {
      "text/html": [
       "<div>\n",
       "<style scoped>\n",
       "    .dataframe tbody tr th:only-of-type {\n",
       "        vertical-align: middle;\n",
       "    }\n",
       "\n",
       "    .dataframe tbody tr th {\n",
       "        vertical-align: top;\n",
       "    }\n",
       "\n",
       "    .dataframe thead th {\n",
       "        text-align: right;\n",
       "    }\n",
       "</style>\n",
       "<table border=\"1\" class=\"dataframe\">\n",
       "  <thead>\n",
       "    <tr style=\"text-align: right;\">\n",
       "      <th></th>\n",
       "      <th>query</th>\n",
       "      <th>results_json</th>\n",
       "      <th>status</th>\n",
       "      <th>n_results_found</th>\n",
       "    </tr>\n",
       "  </thead>\n",
       "  <tbody>\n",
       "    <tr>\n",
       "      <th>0</th>\n",
       "      <td>ngc 1502</td>\n",
       "      <td>{'responseHeader': {'status': 0, 'QTime': 304,...</td>\n",
       "      <td>0</td>\n",
       "      <td>67.0</td>\n",
       "    </tr>\n",
       "    <tr>\n",
       "      <th>1</th>\n",
       "      <td>abs:\"Hercules\"</td>\n",
       "      <td>{'responseHeader': {'status': 0, 'QTime': 173,...</td>\n",
       "      <td>0</td>\n",
       "      <td>20079.0</td>\n",
       "    </tr>\n",
       "    <tr>\n",
       "      <th>4</th>\n",
       "      <td>title:\"Hercules\"</td>\n",
       "      <td>{'responseHeader': {'status': 0, 'QTime': 17, ...</td>\n",
       "      <td>0</td>\n",
       "      <td>5210.0</td>\n",
       "    </tr>\n",
       "    <tr>\n",
       "      <th>7</th>\n",
       "      <td>author:\"^Ogilvie\" year:2004 property:refereed</td>\n",
       "      <td>{'responseHeader': {'status': 0, 'QTime': 52, ...</td>\n",
       "      <td>0</td>\n",
       "      <td>1.0</td>\n",
       "    </tr>\n",
       "    <tr>\n",
       "      <th>9</th>\n",
       "      <td>author:\"Gardiner, Emiko C.\"</td>\n",
       "      <td>{'responseHeader': {'status': 0, 'QTime': 64, ...</td>\n",
       "      <td>0</td>\n",
       "      <td>11.0</td>\n",
       "    </tr>\n",
       "  </tbody>\n",
       "</table>\n",
       "</div>"
      ],
      "text/plain": [
       "                                           query  \\\n",
       "0                                       ngc 1502   \n",
       "1                                 abs:\"Hercules\"   \n",
       "4                               title:\"Hercules\"   \n",
       "7  author:\"^Ogilvie\" year:2004 property:refereed   \n",
       "9                    author:\"Gardiner, Emiko C.\"   \n",
       "\n",
       "                                        results_json  status  n_results_found  \n",
       "0  {'responseHeader': {'status': 0, 'QTime': 304,...       0             67.0  \n",
       "1  {'responseHeader': {'status': 0, 'QTime': 173,...       0          20079.0  \n",
       "4  {'responseHeader': {'status': 0, 'QTime': 17, ...       0           5210.0  \n",
       "7  {'responseHeader': {'status': 0, 'QTime': 52, ...       0              1.0  \n",
       "9  {'responseHeader': {'status': 0, 'QTime': 64, ...       0             11.0  "
      ]
     },
     "execution_count": 19,
     "metadata": {},
     "output_type": "execute_result"
    }
   ],
   "source": [
    "def extract_status(result):\n",
    "    return result['responseHeader']['status']\n",
    "\n",
    "def extract_num_found(result):\n",
    "    try:\n",
    "        return int(result['response']['numFound'])\n",
    "    except KeyError:\n",
    "        return None\n",
    "    \n",
    "df_validated['status'] = df_validated['results_json'].apply(extract_status)\n",
    "df_validated['n_results_found'] = df_validated['results_json'].apply(extract_num_found)\n",
    "\n",
    "\n",
    "df_validated.head(5)"
   ]
  },
  {
   "cell_type": "code",
   "execution_count": 20,
   "metadata": {},
   "outputs": [
    {
     "data": {
      "text/html": [
       "<div>\n",
       "<style scoped>\n",
       "    .dataframe tbody tr th:only-of-type {\n",
       "        vertical-align: middle;\n",
       "    }\n",
       "\n",
       "    .dataframe tbody tr th {\n",
       "        vertical-align: top;\n",
       "    }\n",
       "\n",
       "    .dataframe thead th {\n",
       "        text-align: right;\n",
       "    }\n",
       "</style>\n",
       "<table border=\"1\" class=\"dataframe\">\n",
       "  <thead>\n",
       "    <tr style=\"text-align: right;\">\n",
       "      <th></th>\n",
       "      <th>query</th>\n",
       "      <th>results_json</th>\n",
       "      <th>status</th>\n",
       "      <th>n_results_found</th>\n",
       "    </tr>\n",
       "  </thead>\n",
       "  <tbody>\n",
       "    <tr>\n",
       "      <th>372</th>\n",
       "      <td>bibstem:\"MNRAS\", fulltext:\"TESS\"</td>\n",
       "      <td>{'responseHeader': {'status': 400, 'QTime': 8,...</td>\n",
       "      <td>400</td>\n",
       "      <td>NaN</td>\n",
       "    </tr>\n",
       "    <tr>\n",
       "      <th>933</th>\n",
       "      <td>author:(^\"dotto\") abs:(dart)</td>\n",
       "      <td>{'responseHeader': {'status': 400, 'QTime': 2,...</td>\n",
       "      <td>400</td>\n",
       "      <td>NaN</td>\n",
       "    </tr>\n",
       "  </tbody>\n",
       "</table>\n",
       "</div>"
      ],
      "text/plain": [
       "                                query  \\\n",
       "372  bibstem:\"MNRAS\", fulltext:\"TESS\"   \n",
       "933      author:(^\"dotto\") abs:(dart)   \n",
       "\n",
       "                                          results_json  status  \\\n",
       "372  {'responseHeader': {'status': 400, 'QTime': 8,...     400   \n",
       "933  {'responseHeader': {'status': 400, 'QTime': 2,...     400   \n",
       "\n",
       "     n_results_found  \n",
       "372              NaN  \n",
       "933              NaN  "
      ]
     },
     "execution_count": 20,
     "metadata": {},
     "output_type": "execute_result"
    }
   ],
   "source": [
    "# check for any failed requests\n",
    "df_validated[df_validated['status'] != 0]"
   ]
  },
  {
   "cell_type": "markdown",
   "metadata": {},
   "source": [
    "Save results to a file"
   ]
  },
  {
   "cell_type": "code",
   "execution_count": 22,
   "metadata": {},
   "outputs": [],
   "source": [
    "# Rearrange and save to file\n",
    "df_validated = df_validated[['status', 'n_results_found', 'query', 'results_json']].reset_index(drop=True)\n",
    "df_validated.to_csv(base_path + \"parsed_queries.csv\", index=True)"
   ]
  },
  {
   "cell_type": "markdown",
   "metadata": {},
   "source": [
    "#### ChatGPT"
   ]
  },
  {
   "cell_type": "code",
   "execution_count": 52,
   "metadata": {},
   "outputs": [],
   "source": [
    "# Status: not working\n",
    "qs1 = \"\"\"q=pubdate:[2020-01+TO+9999-12]+author:(\"ellis,+g\")&fl=identifier,[citations],abstract,author,book_author,orcid_pub,orcid_user,orcid_other,bibcode,citation_count,comment,doi,id,keyword,page,property,pub,pub_raw,pubdate,pubnote,read_count,title,volume,links_data,esources,data,citation_count_norm,email,doctype&fq_database=database:+astronomy&start=0&__fq_database=AND&__fq_database=astronomy&fq={!type%3Daqp+v%3D$fq_database\n",
    "\"\"\"\n",
    "\n",
    "qs2 = '''q=author:\"Manzo-Martínez,+Ezequiel\"&stats=true&fl=id&start=0&sort=date+desc,bibcode+desc&rows=10&wt=json&p_=0&stats.field=citation_count\n",
    "'''\n",
    "\n",
    "qs3 = '''q=++author:\"^Roman\"++year:2021&filter_database_fq_database=AND&filter_database_fq_database=database:\"astronomy\"&fl=identifier,[citations],abstract,author,book_author,orcid_pub,orcid_user,orcid_other,bibcode,citation_count,comment,doi,id,keyword,page,property,pub,pub_raw,pubdate,pubnote,read_count,title,volume,links_data,esources,data,citation_count_norm,email,doctype&fq_database=(database:\"astronomy\")&start=0&fq={!type%3Daqp+v%3D$fq_database\n",
    "'''"
   ]
  },
  {
   "cell_type": "code",
   "execution_count": 55,
   "metadata": {},
   "outputs": [],
   "source": [
    "# First, let's assume your query string is part of a full URL, as it typically would be in an actual HTTP request.\n",
    "# If you have just the query string, you could skip the urlparse step.\n",
    "\n",
    "# full_url = 'http://example.com?' + query_string  # Uncomment this line if you're working with a full URL.\n",
    "# parsed_url = urlparse(full_url)  # Uncomment this line if you're working with a full URL.\n",
    "# query_string = parsed_url.query  # Uncomment this line if you're working with a full URL.\n",
    "def reconstruct_params_dict(query_string):\n",
    "    # Parse the query string into a dictionary, where each key corresponds to a parameter, and each value is a list of values for that parameter.\n",
    "    params = parse_qs(query_string)\n",
    "\n",
    "    # Now, `params` is a dictionary where the values are lists. If you know each key only has one value, you might want to simplify this.\n",
    "    simple_params = {k: v[0] for k, v in params.items()}\n",
    "\n",
    "    # The query string may have URL encoding, so we should decode it to get the original characters.\n",
    "    for key in simple_params:\n",
    "        simple_params[key] = unquote_plus(simple_params[key])\n",
    "\n",
    "    # If you need to convert the '+' back to spaces, particularly for the 'q' parameter, you can do so.\n",
    "    if 'q' in simple_params:\n",
    "        simple_params['q'] = simple_params['q'].replace('+', ' ')\n",
    "\n",
    "    return simple_params"
   ]
  },
  {
   "cell_type": "code",
   "execution_count": 56,
   "metadata": {},
   "outputs": [
    {
     "data": {
      "text/plain": [
       "{'q': '  author:\"^Roman\"  year:2021',\n",
       " 'filter_database_fq_database': 'AND',\n",
       " 'fl': 'identifier,[citations],abstract,author,book_author,orcid_pub,orcid_user,orcid_other,bibcode,citation_count,comment,doi,id,keyword,page,property,pub,pub_raw,pubdate,pubnote,read_count,title,volume,links_data,esources,data,citation_count_norm,email,doctype',\n",
       " 'fq_database': '(database:\"astronomy\")',\n",
       " 'start': '0',\n",
       " 'fq': '{!type=aqp v=$fq_database\\n'}"
      ]
     },
     "execution_count": 56,
     "metadata": {},
     "output_type": "execute_result"
    }
   ],
   "source": [
    "sp = reconstruct_params_dict(qs3)\n",
    "sp"
   ]
  },
  {
   "cell_type": "markdown",
   "metadata": {},
   "source": [
    "##### API request using dictionary constructied from logged query string\n",
    "\n",
    "Now actually try to do the search"
   ]
  },
  {
   "cell_type": "code",
   "execution_count": 57,
   "metadata": {},
   "outputs": [
    {
     "data": {
      "text/plain": [
       "{'responseHeader': {'status': 400,\n",
       "  'QTime': 6,\n",
       "  'params': {'q': '  author:\"^Roman\"  year:2021',\n",
       "   'filter_database_fq_database': 'AND',\n",
       "   'fl': 'identifier,[citations],abstract,author,book_author,orcid_pub,orcid_user,orcid_other,bibcode,citation_count,comment,doi,id,keyword,page,property,pub,pub_raw,pubdate,pubnote,read_count,title,volume,links_data,esources,data,citation_count_norm,email,doctype',\n",
       "   'fq_database': '(database:\"astronomy\")',\n",
       "   'start': '0',\n",
       "   'internal_logging_params': 'X-Amzn-Trace-Id=Root=1-652daf01-3478e6cc0e29e9351caf05d2',\n",
       "   'fq': '{!type=aqp v=$fq_database\\n',\n",
       "   'rows': '10',\n",
       "   'wt': 'json'}},\n",
       " 'error': {'metadata': ['error-class',\n",
       "   'org.apache.solr.common.SolrException',\n",
       "   'root-error-class',\n",
       "   'org.apache.solr.search.SyntaxError'],\n",
       "  'msg': \"org.apache.solr.search.SyntaxError: Expected identifier at pos 26 str='{!type=aqp v=$fq_database\\n'\",\n",
       "  'code': 400}}"
      ]
     },
     "execution_count": 57,
     "metadata": {},
     "output_type": "execute_result"
    }
   ],
   "source": [
    "encoded_query = urlencode(simple_params)\n",
    "results = requests.get(\"https://api.adsabs.harvard.edu/v1/search/query?{}\".format(encoded_query), \\\n",
    "                       headers={'Authorization': 'Bearer ' + token})\n",
    "\n",
    "# format the response in a nicely readable format\n",
    "results.json()"
   ]
  },
  {
   "cell_type": "markdown",
   "metadata": {},
   "source": [
    "#### More general parsing"
   ]
  },
  {
   "cell_type": "code",
   "execution_count": null,
   "metadata": {},
   "outputs": [],
   "source": [
    "def extract_queries(path):\n",
    "    # open file and use regex to extract all api requests\n",
    "\n",
    "    # parse the query strings with regex\n",
    "\n",
    "    # ignore everything except for the query, `q`\n",
    "\n",
    "    # convert to dataframe\n",
    "\n",
    "    pass"
   ]
  },
  {
   "cell_type": "code",
   "execution_count": null,
   "metadata": {},
   "outputs": [],
   "source": [
    "query_pattern = r'q=.*?&wt=json'\n",
    "\n",
    "def extract_queries(path, pattern):\n",
    "    # Read the entire file\n",
    "    with open(path, 'r') as f:\n",
    "        content = f.read()\n",
    "\n",
    "    # Use regex to find all the api requests that start with 'q='\n",
    "    matches = re.findall(pattern, content)\n",
    "\n",
    "    # Parse the query strings with parse_qs and extract the 'q' parameter\n",
    "    queries = [parse_qs(match)['q'][0].split() for match in matches]\n",
    "\n",
    "    # Convert to dataframe\n",
    "    df = pd.DataFrame(queries, columns=['query'])\n",
    "\n",
    "    return df\n",
    "\n",
    "def count_query_fields(df):\n",
    "    def parse_query_str(s : str) -> list[str]:\n",
    "        pass"
   ]
  }
 ],
 "metadata": {
  "kernelspec": {
   "display_name": "adschat-jmOWAmzn",
   "language": "python",
   "name": "python3"
  },
  "language_info": {
   "codemirror_mode": {
    "name": "ipython",
    "version": 3
   },
   "file_extension": ".py",
   "mimetype": "text/x-python",
   "name": "python",
   "nbconvert_exporter": "python",
   "pygments_lexer": "ipython3",
   "version": "3.11.3"
  },
  "orig_nbformat": 4
 },
 "nbformat": 4,
 "nbformat_minor": 2
}
